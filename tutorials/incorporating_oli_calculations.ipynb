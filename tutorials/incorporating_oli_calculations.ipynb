{
 "cells": [
  {
   "cell_type": "markdown",
   "metadata": {
    "scrolled": true,
    "slideshow": {
     "slide_type": "slide"
    }
   },
   "source": [
    "\n",
    "# Incorporating OLI Calculations with WaterTAP\n",
    "\n",
    "#### Contact: Paul Vecchiarelli (paul.vecchiarelli@nrel.gov)\n",
    "\n",
    "This tutorial will demonstrate basic usage of OLI Cloud calls using our custom API tools."
   ]
  },
  {
   "cell_type": "markdown",
   "metadata": {
    "slideshow": {
     "slide_type": "slide"
    }
   },
   "source": [
    "## Rationale\n",
    "\n",
    " - Simulations for realistic water sources are mathematically complex: \n",
    " > $ Interactions \\ge Cations * Anions$\n",
    " - OLI improves WaterTAP approximations and offloads computational resources"
   ]
  },
  {
   "cell_type": "markdown",
   "metadata": {
    "slideshow": {
     "slide_type": "slide"
    }
   },
   "source": [
    "## Required OLI API Inputs\n",
    "\n",
    "\n",
    " - State variables (solute concentrations, temperature, pressure), which can be extracted from a state block\n",
    " \n",
    " - Login credentials\n",
    " \n",
    " - A chemistry (*.dbs) file\n",
    "     - establishes state variables, phases, etc. to be considered in flash calls"
   ]
  },
  {
   "cell_type": "code",
   "execution_count": 11,
   "metadata": {
    "slideshow": {
     "slide_type": "slide"
    }
   },
   "outputs": [],
   "source": [
    "# used to specify state/convert variables\n",
    "from pyomo.environ import units as pyunits\n",
    "\n",
    "# used to build survey lists\n",
    "from numpy import linspace\n",
    "\n",
    "# used to execute OLI Cloud functions\n",
    "from watertap.tools.oli_api.flash import (\n",
    "    Flash,\n",
    "    build_survey,\n",
    "    get_survey_sample_conditions,\n",
    "    write_output,\n",
    ")\n",
    "from watertap.tools.oli_api.credentials import CredentialManager\n",
    "from watertap.tools.oli_api.client import OLIApi"
   ]
  },
  {
   "cell_type": "markdown",
   "metadata": {
    "slideshow": {
     "slide_type": "slide"
    }
   },
   "source": [
    "# 1. Specify State Variables.\n",
    "\n",
    "- This data is used to construct inputs to OLI Cloud\n",
    "- Same basic information is required by Water Analysis and Isothermal flashes (temperature, pressure, solutes)"
   ]
  },
  {
   "cell_type": "code",
   "execution_count": 3,
   "metadata": {
    "slideshow": {
     "slide_type": "subslide"
    }
   },
   "outputs": [],
   "source": [
    "inflows = {\n",
    "    \"Na_+\": 3.5e3,\n",
    "    \"Cl_-\": 3.5e3,\n",
    "    \"Ca_2+\": 250,\n",
    "    \"SO4_2-\": 900,\n",
    "    \"SiO2\": 30,\n",
    "}"
   ]
  },
  {
   "cell_type": "markdown",
   "metadata": {
    "slideshow": {
     "slide_type": "slide"
    }
   },
   "source": [
    "# 2. Initialize Flash Instance.\n",
    "\n",
    " - We will run most of our methods with this class"
   ]
  },
  {
   "cell_type": "code",
   "execution_count": 4,
   "metadata": {},
   "outputs": [],
   "source": [
    "flash = Flash()"
   ]
  },
  {
   "cell_type": "markdown",
   "metadata": {
    "slideshow": {
     "slide_type": "slide"
    }
   },
   "source": [
    "# 3. Get Survey Parameters.\n",
    "\n",
    " - In this example, we will generate a temperature sweep survey"
   ]
  },
  {
   "cell_type": "code",
   "execution_count": 13,
   "metadata": {
    "scrolled": true,
    "slideshow": {
     "slide_type": "subslide"
    }
   },
   "outputs": [
    {
     "name": "stderr",
     "output_type": "stream",
     "text": [
      "OLIAPI - 16:57:20 - INFO - Survey contains 10 items.\n",
      "OLIAPI - 16:57:20 - INFO - Saving content to pretreatment_survey.json\n",
      "OLIAPI - 16:57:20 - INFO - Save complete\n",
      "OLIAPI - 16:57:20 - INFO - Survey contains 10 items.\n",
      "OLIAPI - 16:57:20 - INFO - Saving content to pretreatment_survey_custom.json\n",
      "OLIAPI - 16:57:20 - INFO - Save complete\n"
     ]
    },
    {
     "name": "stdout",
     "output_type": "stream",
     "text": [
      "Survey using grid_mesh\n",
      "{'NAION': [0.0, 0.0, 0.0, 0.0, 0.0, 10000.0, 10000.0, 10000.0, 10000.0, 10000.0], 'CLION': [0.0, 2500.0, 5000.0, 7500.0, 10000.0, 0.0, 2500.0, 5000.0, 7500.0, 10000.0]}\n",
      "Survey with custom sampling\n",
      "{'NAION': [0.0, 0.0, 0.0, 0.0, 0.0, 10000.0, 10000.0, 10000.0, 10000.0, 10000.0], 'CLION': [0.0, 2500.0, 5000.0, 7500.0, 10000.0, 0.0, 2500.0, 5000.0, 7500.0, 10000.0]}\n"
     ]
    }
   ],
   "source": [
    "# a survey will sweep through one or more variables simultaneously\n",
    "# surveys are enabled for concentration, pH, temperature, pressure, and other variables\n",
    "\n",
    "# using the default grid_mesh setting,\n",
    "# build_survey computes the Cartesian product of the input arrays\n",
    "survey = build_survey(\n",
    "    {\n",
    "        \"Na_+\": linspace(0, 1e4, 2),\n",
    "        \"Cl_-\": linspace(0, 1e4, 5),\n",
    "    },\n",
    "    get_oli_names=True,\n",
    "    mesh_grid=True,\n",
    "    file_name=\"pretreatment_survey\",\n",
    ")\n",
    "print(\"Survey using grid_mesh\")\n",
    "print(survey)\n",
    "\n",
    "# setting grid_mesh=False allows custom surveys to be defined, i.e., no Cartesian product is computed.\n",
    "survey_custom = build_survey(\n",
    "    {\n",
    "         \"Na_+\": [0., 0., 0., 0., 0., 1e4, 1e4, 1e4, 1e4, 1e4],\n",
    "         \"Cl_-\": [0., 2.5e3, 5e3, 7.5e3, 1e4, 0., 2.5e3, 5e3, 7.5e3, 1e4],\n",
    "    },\n",
    "    get_oli_names=True,\n",
    "    mesh_grid=False,\n",
    "    file_name=\"pretreatment_survey_custom\",\n",
    ")\n",
    "print(\"Survey with custom sampling\")\n",
    "print(survey_custom)"
   ]
  },
  {
   "cell_type": "code",
   "execution_count": 14,
   "metadata": {},
   "outputs": [
    {
     "name": "stderr",
     "output_type": "stream",
     "text": [
      "OLIAPI - 16:57:24 - INFO - Saving content to test_survey_points.json\n",
      "OLIAPI - 16:57:24 - INFO - Save complete\n",
      "OLIAPI - 16:57:24 - INFO - Saving content to test_survey_points_custom.json\n",
      "OLIAPI - 16:57:24 - INFO - Save complete\n"
     ]
    },
    {
     "name": "stdout",
     "output_type": "stream",
     "text": [
      "sample: 0\n",
      "grid survey point: {'NAION': 0.0, 'CLION': 0.0}\n",
      "custom survey point: {'NAION': 0.0, 'CLION': 0.0}\n",
      "sample: 1\n",
      "grid survey point: {'NAION': 0.0, 'CLION': 2500.0}\n",
      "custom survey point: {'NAION': 0.0, 'CLION': 2500.0}\n",
      "sample: 2\n",
      "grid survey point: {'NAION': 0.0, 'CLION': 5000.0}\n",
      "custom survey point: {'NAION': 0.0, 'CLION': 5000.0}\n",
      "sample: 3\n",
      "grid survey point: {'NAION': 0.0, 'CLION': 7500.0}\n",
      "custom survey point: {'NAION': 0.0, 'CLION': 7500.0}\n",
      "sample: 4\n",
      "grid survey point: {'NAION': 0.0, 'CLION': 10000.0}\n",
      "custom survey point: {'NAION': 0.0, 'CLION': 10000.0}\n",
      "sample: 5\n",
      "grid survey point: {'NAION': 10000.0, 'CLION': 0.0}\n",
      "custom survey point: {'NAION': 10000.0, 'CLION': 0.0}\n",
      "sample: 6\n",
      "grid survey point: {'NAION': 10000.0, 'CLION': 2500.0}\n",
      "custom survey point: {'NAION': 10000.0, 'CLION': 2500.0}\n",
      "sample: 7\n",
      "grid survey point: {'NAION': 10000.0, 'CLION': 5000.0}\n",
      "custom survey point: {'NAION': 10000.0, 'CLION': 5000.0}\n",
      "sample: 8\n",
      "grid survey point: {'NAION': 10000.0, 'CLION': 7500.0}\n",
      "custom survey point: {'NAION': 10000.0, 'CLION': 7500.0}\n",
      "sample: 9\n",
      "grid survey point: {'NAION': 10000.0, 'CLION': 10000.0}\n",
      "custom survey point: {'NAION': 10000.0, 'CLION': 10000.0}\n"
     ]
    },
    {
     "data": {
      "text/plain": [
       "WindowsPath('test_survey_points_custom.json')"
      ]
     },
     "execution_count": 14,
     "metadata": {},
     "output_type": "execute_result"
    }
   ],
   "source": [
    "# individual sample points can be accessed to see what will be modified\n",
    "samples = [0,1,2,3,4,5,6,7,8,9]\n",
    "survey_points = get_survey_sample_conditions(survey, samples)\n",
    "survey_points_custom = get_survey_sample_conditions(survey_custom, samples)\n",
    "\n",
    "for sample in samples:\n",
    "    print(f\"sample: {sample}\")\n",
    "    print(f\"grid survey point: {survey_points[sample]}\")\n",
    "    print(f\"custom survey point: {survey_points_custom[sample]}\")\n",
    "\n",
    "write_output(survey_points, \"test_survey_points\")\n",
    "write_output(survey_points_custom, \"test_survey_points_custom\")"
   ]
  },
  {
   "cell_type": "markdown",
   "metadata": {
    "slideshow": {
     "slide_type": "slide"
    }
   },
   "source": [
    "# 4. Login to OLI Cloud.\n",
    "\n",
    "- The following code demonstrates an OLI Cloud login:"
   ]
  },
  {
   "cell_type": "code",
   "execution_count": 15,
   "metadata": {
    "slideshow": {
     "slide_type": "fragment"
    }
   },
   "outputs": [
    {
     "name": "stdout",
     "output_type": "stream",
     "text": [
      " Incomplete credentials for the following keys: ['username', 'password', 'root_url', 'auth_url'].\n"
     ]
    }
   ],
   "source": [
    "# there are 3 intended methods of logging in:\n",
    "# 1: using username, password, root_url, and auth_url\n",
    "# 2: using access_keys and root_url\n",
    "# 3: using encryption_key to load credentials from config_file\n",
    "\n",
    "# methods 1 and 2 will prompt to save credentials and provide an encryption key to use with method 3.\n",
    "\n",
    "try:\n",
    "    # method 1: input username, password, root_url, and auth_url\n",
    "    credential_manager = CredentialManager()\n",
    "    # when prompted, allow WaterTAP to save credentials to generate encryption key.\n",
    "    \n",
    "    # to overwrite saved credentials, create a new credential_manager instance with \n",
    "    # the credentials to write and permit credentials to be save to the config_file.\n",
    "    # e.g., new_credential_manager = CredentialManager(credential_manager.credentials)\n",
    "    \n",
    "    \n",
    "    # method 2: input access_keys and root_url\n",
    "    \n",
    "    # credential_manager.generate_oliapi_access_key will create a new access key and add it to\n",
    "    # credential_manager.credentials[\"access_keys\"].\n",
    "    \n",
    "    # credential_manager.delete_oliapi_access_key will delete a specified key.\n",
    "\n",
    "    \"\"\"\n",
    "    credential_manager = CredentialManager(\n",
    "        access_keys = [\"\", \"\", \"\", \"\", \"\"],\n",
    "        root_url = \"\",\n",
    "    )\n",
    "    \"\"\"\n",
    "    \n",
    "    # method 3: input encryption_key\n",
    "    \"\"\"\n",
    "    credential_manager = CredentialManager(\n",
    "        encryption_key = \"\",\n",
    "    )\n",
    "    \"\"\"\n",
    "    \n",
    "    # NOTE: a new encryption key will be generated every time the config_file is overwritten \n",
    "    \n",
    "except (OSError, ConnectionError) as e:\n",
    "    print(e)\n",
    "    credential_manager = None"
   ]
  },
  {
   "cell_type": "markdown",
   "metadata": {
    "slideshow": {
     "slide_type": "slide"
    }
   },
   "source": [
    "# 5. Create *.dbs File and 6. Get Output"
   ]
  },
  {
   "cell_type": "code",
   "execution_count": 16,
   "metadata": {
    "scrolled": false,
    "slideshow": {
     "slide_type": "fragment"
    }
   },
   "outputs": [],
   "source": [
    "if credential_manager:\n",
    "    # OLIApi is used as a context manager\n",
    "    with OLIApi(credential_manager) as oliapi:\n",
    "        # create a new DBS file\n",
    "        # alternative thermo_frameworks and databanks are available.\n",
    "        \n",
    "        # use keep_file = True to save a DBS file ID on the Cloud\n",
    "        # for use in more than one session\n",
    "        dbs_file_id = oliapi.get_dbs_file_id(\n",
    "            inflows=inflows,\n",
    "            thermo_framework=\"MSE (H3O+ ion)\",\n",
    "            phases=[\"liquid1\", \"solid\"],\n",
    "            model_name=\"test\",\n",
    "            keep_file=true,\n",
    "        )\n",
    "        # NOTE: liquid2 (non-aqueous) and vapor phases are available but not yet fully supported.\n",
    "                \n",
    "        # if a DBS file has been retained from a previous session,\n",
    "        # its flash history and chemistry information can be summarized.\n",
    "        file_summary = oliapi.get_dbs_file_summary(dbs_file_id)\n",
    "        \n",
    "        # save chemistry information\n",
    "        chemistry_info = file_summary[\"chemistry_info\"]\n",
    "        write_output(chemistry_info[\"result\"], \"chemistry_info\")\n",
    "        \n",
    "        # create water analysis input\n",
    "        # Water Analysis uses true species for inputs, i.e., IONS.\n",
    "        json_input = flash.configure_water_analysis(\n",
    "            inflows,\n",
    "            reconciliation=\"ReconcilePh\",\n",
    "            ph=5,\n",
    "            allow_solids=True,\n",
    "            file_name=\"water_analysis_inputs\",\n",
    "        )\n",
    "        # run Water Analysis flash calculation survey as specified        \n",
    "        stream_output = flash.run_flash(\n",
    "            \"wateranalysis\",\n",
    "            oliapi,\n",
    "            dbs_file_id,\n",
    "            json_input,\n",
    "            survey,\n",
    "            file_name=\"water_analysis_outputs\",\n",
    "        )\n",
    "        \n",
    "        # The output of Water Analysis gives apparent species\n",
    "        # i.e., SALTS, COMPLEXES (MgO, CaO, etc.)"
   ]
  },
  {
   "cell_type": "code",
   "execution_count": null,
   "metadata": {},
   "outputs": [],
   "source": [
    "if credential_manager:\n",
    "    with OLIApi(credential_manager) as oliapi:\n",
    "\n",
    "    # Other flash calculations use apparent species for inputs.\n",
    "    \n",
    "    # These can be obtained in one step with get_apparent_species_from_true(),\n",
    "    # and saved to a file and reloaded as needed.\n",
    "    apparent_species = flash.get_apparent_species_from_true(\n",
    "        json_input, oliapi, dbs_file_id, file_name=\"apparent_species\"\n",
    "    )\n",
    "    isothermal_input = flash.configure_flash_analysis(\n",
    "        apparent_species, \"isothermal\", file_name=\"isothermal_inputs\"\n",
    "    )\n",
    "    # specify a new survey to compare apparent species\n",
    "    isothermal_survey = build_survey(\n",
    "        {\"NaCl\": linspace(0, 1e6, 10)},\n",
    "        get_oli_names=True,\n",
    "        file_name=\"isothermal_survey\",\n",
    "    )\n",
    "    flash.run_flash(\n",
    "        \"isothermal\",\n",
    "        oliapi,\n",
    "        dbs_file_id,\n",
    "        isothermal_input,\n",
    "        isothermal_survey,\n",
    "        file_name=\"isothermal_outputs\",\n",
    "    )"
   ]
  },
  {
   "cell_type": "markdown",
   "metadata": {
    "slideshow": {
     "slide_type": "slide"
    }
   },
   "source": [
    "# 7. Extract Filtered Output\n",
    "\n",
    " - OLI's output is robust, so WaterTAP extracts data into a flattened result."
   ]
  },
  {
   "cell_type": "code",
   "execution_count": 20,
   "metadata": {
    "slideshow": {
     "slide_type": "subslide"
    }
   },
   "outputs": [],
   "source": [
    "# There are 3 keys for results:\n",
    "# 'submitted_requests' stores the JSON input for each Flash calculation\n",
    "# 'metaData' stores metadata for each Flash calculation\n",
    "# 'result' stores the JSON output for each Flash calculation\n",
    "\n",
    "import json\n",
    "\n",
    "if credential_manager:\n",
    "    with open(\"isothermal_outputs\", \"rb\") as json_output:\n",
    "        results = json.load(json_output)[\"result\"]\n",
    "\n",
    "    print(\"Available keys:\")\n",
    "    for k in result:\n",
    "        print(k)\n",
    "\n",
    "    result = data[\"prescalingTendencies\"]\n",
    "    print(result)"
   ]
  }
 ],
 "metadata": {
  "celltoolbar": "Slideshow",
  "kernelspec": {
   "display_name": "watertap-dev",
   "language": "python",
   "name": "watertap-dev"
  },
  "language_info": {
   "codemirror_mode": {
    "name": "ipython",
    "version": 3
   },
   "file_extension": ".py",
   "mimetype": "text/x-python",
   "name": "python",
   "nbconvert_exporter": "python",
   "pygments_lexer": "ipython3",
   "version": "3.8.18"
  }
 },
 "nbformat": 4,
 "nbformat_minor": 2
}
